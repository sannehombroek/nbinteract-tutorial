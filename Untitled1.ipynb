{
 "cells": [
  {
   "cell_type": "code",
   "execution_count": null,
   "metadata": {},
   "outputs": [],
   "source": [
    "import osmnx as ox\n",
    "import matplotlib.patches as mpatches\n",
    "import matplotlib.pyplot as plt\n",
    "import matplotlib as mpl\n",
    "import string\n",
    "%matplotlib inline  \n",
    "\n",
    "Address='Kerkstraat, Amersfoort'\n",
    "\n",
    "# Give each streettype a color based on the name. If both names occur (eg: Rijksstraatweg), first one in the list wins\n",
    "def colourcode(x):\n",
    "        # if (your_street in x):\n",
    "    if x==your_street:\n",
    "        return '#ff6200'\n",
    "    elif ('laan' in x): \n",
    "        return 'green'\n",
    "    else:\n",
    "        return 'gainsboro'\n",
    "# Give the input street a wider linewidth\n",
    "def linethick(x):\n",
    "    if x==your_street: return 7\n",
    "    else: return 1\n",
    "   \n",
    "    # USE THE USER INPUT TO CREATE A GRAPH AROUND THAT ADDRESS\n",
    "G3 = ox.graph_from_address(Address, network_type='all',dist=200, dist_type='bbox', simplify=False)\n",
    "edge_attributes = ox.graph_to_gdfs(G3, nodes=False)\n",
    "    \n",
    "    # Color every street based on the streettype. First split the address into street and city\n",
    "your_street=Address.split(',',1)[0].lower()\n",
    "city=Address.split(',',1)[1].lower().strip()\n",
    "ec = [colourcode(str(row['name']).lower()) for index, row in edge_attributes.iterrows()]\n",
    "lw = [linethick(str(row['name']).lower()) for index, row in edge_attributes.iterrows()]\n",
    "    \n",
    "#Create figure\n",
    "plt.rcdefaults()\n",
    "fig,ax= ox.plot.plot_graph(G3, bgcolor='white', node_size=0, node_color='w', node_edgecolor='gray', node_zorder=2,\n",
    "                        edge_color=ec, edge_linewidth=lw, edge_alpha=1, figsize=(25,25), dpi=300 , show=False, close=False)\n",
    "\n",
    "# ADD TITLE AND LEGEND: I WANT TO GET A WHITE BACKGROUND FOR THE PART WITH TITLES AND LEGEND \n",
    "#Titles\n",
    "plt.figtext(0.4, 0.94,'Your Street: ' + string.capwords(your_street), fontsize=40, color='#ff6200',ha ='left')\n",
    "plt.figtext(0.4, 0.97, 'Your Place: ' + string.capwords(city), fontsize=40, color='black',ha ='left')\n",
    "\n",
    "fig.patches.extend([plt.Rectangle((0.1,0.1),0.83,0.9,\n",
    "                                  fill=True, color='black', alpha=1, zorder=-1,\n",
    "                                  transform=fig.transFigure, figure=fig)])\n",
    "#Legends\n",
    "your_street_patch=mpatches.Patch(color='#ff6200', label='Your Street')\n",
    "lane_patch =mpatches.Patch(color='green', label='Laan')\n",
    "anders_patch =mpatches.Patch(color='gainsboro', label='Anders')\n",
    "#create your street legend\n",
    "first_legend=plt.legend(fontsize=16, frameon=False, bbox_to_anchor=(0.5, 1.07), loc='upper center',handles=[your_street_patch])\n",
    "# Add the legend manually to the current Axes.\n",
    "ax = plt.gca().add_artist(first_legend)\n",
    "# Create another legend for the rest\n",
    "plt.legend(fontsize=16, frameon=False,loc='upper center',bbox_to_anchor=(0.5, 1.05), ncol=8, handles=[lane_patch,anders_patch])\n",
    "\n",
    "#show everything\n",
    "plt.show()"
   ]
  },
  {
   "cell_type": "code",
   "execution_count": 32,
   "metadata": {},
   "outputs": [
    {
     "data": {
      "text/plain": [
       "<matplotlib.patches.Rectangle at 0x7f27348f6d90>"
      ]
     },
     "execution_count": 32,
     "metadata": {},
     "output_type": "execute_result"
    }
   ],
   "source": [
    "plt.Rectangle((0.1,0.1),0.9,0.9,\n",
    "                                  fill=True, color='cyan', alpha=1, zorder=-1,\n",
    "                                  transform=fig.transFigure, figure=fig)"
   ]
  },
  {
   "cell_type": "code",
   "execution_count": null,
   "metadata": {},
   "outputs": [],
   "source": [
    "plt.Rectangle((0.1,0.1),0.9,0.9,\n",
    "                                  fill=True, color='cyan', alpha=1, zorder=-1,\n",
    "                                  transform=fig.transFigure, figure=fig)"
   ]
  },
  {
   "cell_type": "code",
   "execution_count": 36,
   "metadata": {},
   "outputs": [
    {
     "data": {
      "text/plain": [
       "<matplotlib.patches.Rectangle at 0x7f27417ea210>"
      ]
     },
     "execution_count": 36,
     "metadata": {},
     "output_type": "execute_result"
    }
   ],
   "source": [
    "plt.Rectangle((0.1,0.1),0.9,0.9,\n",
    "                                  fill=True, color='cyan', alpha=1, zorder=-1,\n",
    "                                  figure=fig)"
   ]
  },
  {
   "cell_type": "code",
   "execution_count": null,
   "metadata": {},
   "outputs": [],
   "source": []
  }
 ],
 "metadata": {
  "kernelspec": {
   "display_name": "Python 3",
   "language": "python",
   "name": "python3"
  },
  "language_info": {
   "codemirror_mode": {
    "name": "ipython",
    "version": 3
   },
   "file_extension": ".py",
   "mimetype": "text/x-python",
   "name": "python",
   "nbconvert_exporter": "python",
   "pygments_lexer": "ipython3",
   "version": "3.7.8"
  }
 },
 "nbformat": 4,
 "nbformat_minor": 2
}
