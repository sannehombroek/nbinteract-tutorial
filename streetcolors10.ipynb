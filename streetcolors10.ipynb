{
 "cells": [
  {
   "cell_type": "code",
   "execution_count": 1,
   "metadata": {},
   "outputs": [],
   "source": [
    "# HIDDEN\n",
    "import ipywidgets as widgets\n",
    "from ipywidgets import interact, interact_manual\n",
    "import osmnx as ox\n",
    "import matplotlib.patches as mpatches\n",
    "import matplotlib.pyplot as plt\n",
    "\n",
    "def draw_map(Address,Distance):\n",
    "    # Give each streettype a color based on the name. If both names occur (eg: Rijksstraatweg), first one in the list wins\n",
    "    def colourcode(x):\n",
    "        # if (your_street in x):\n",
    "        if x==your_street:\n",
    "            return '#ff6200'\n",
    "        elif ('laan' in x): \n",
    "            return 'green'\n",
    "        elif ('weg' in x):\n",
    "            return 'grey'\n",
    "        elif ('straat' in x):\n",
    "            return 'red'\n",
    "        elif ('gracht' in x):\n",
    "            return 'blue'\n",
    "        elif ('kade' in x):\n",
    "            return 'deepskyblue'\n",
    "        elif ('dreef' in x):\n",
    "            return 'plum'\n",
    "        elif ('plein' in x):\n",
    "            return 'fuchsia'\n",
    "        elif ('steeg' in x):\n",
    "            return 'purple'\n",
    "        elif ('burcht' in x):\n",
    "            return 'saddlebrown'\n",
    "        elif ('erf' in x):\n",
    "            return 'springgreen'\n",
    "        elif ('hof' in x):\n",
    "            return 'darkgreen'\n",
    "        elif ('plantsoen' in x):\n",
    "            return 'lawngreen'\n",
    "        elif ('pad' in x):\n",
    "            return 'burlywood'\n",
    "        elif ('burg' in x):\n",
    "            return 'peru'\n",
    "        elif ('steijn' in x):\n",
    "            return 'rosybrown'\n",
    "        elif (x[-3:]=='lei'):\n",
    "            return 'black'\n",
    "        else:\n",
    "            return 'gainsboro'\n",
    "    # Give the input street a wider linewidth\n",
    "    def linethick(x):\n",
    "        if x==your_street: return 7\n",
    "        else: return 1\n",
    "   \n",
    "    # USE THE USER INPUT TO CREATE A GRAPH AROUND THAT ADDRESS\n",
    "    G3 = ox.graph_from_address(Address, network_type='drive',dist=Distance, dist_type='bbox', simplify=False)\n",
    "    edge_attributes = ox.graph_to_gdfs(G3, nodes=False)\n",
    "    \n",
    "    # Color every street based on the streettype. First split the address into street and city\n",
    "    your_street=Address.split(',',1)[0].lower()\n",
    "    city=Address.split(',',1)[1].lower().strip()\n",
    "    ec = [colourcode(str(row['name']).lower()) for index, row in edge_attributes.iterrows()]\n",
    "    lw = [linethick(str(row['name']).lower()) for index, row in edge_attributes.iterrows()]\n",
    "    fig,ax= ox.plot.plot_graph(G3, bgcolor='white', ax=None, node_size=0, node_color='w', node_edgecolor='gray', node_zorder=2,\n",
    "                        edge_color=ec, edge_linewidth=lw, edge_alpha=1, figsize=(25,25), dpi=300 , show=False, close=False)\n",
    "    \n",
    "    # ADD TITLE AND LEGEND\n",
    "    plt.figtext(0.5, 0.94,string.capwords(your_street), fontsize=40, color='#ff6200', ha ='center')\n",
    "    plt.figtext(0.5, 0.97,string.capwords(city), fontsize=40, color=fontcolor, ha ='center')    your_street_patch=mpatches.Patch(color='#ff6200', label='Jouw straat')\n",
    "    street_patch = mpatches.Patch(color='red', label='Straat')\n",
    "    lane_patch =mpatches.Patch(color='green', label='Laan')\n",
    "    canal_patch =mpatches.Patch(color='blue', label='Gracht')\n",
    "    weg_patch =mpatches.Patch(color='grey', label='Weg')\n",
    "    kade_patch =mpatches.Patch(color='deepskyblue', label='Kade')\n",
    "    steeg_patch =mpatches.Patch(color='purple', label='Steeg')\n",
    "    erf_patch=mpatches.Patch(color='springgreen', label='Erf')\n",
    "    hof_patch=mpatches.Patch(color='darkgreen', label='Hof')\n",
    "    burcht_patch=mpatches.Patch(color='saddlebrown', label='Burcht')\n",
    "    burg_patch=mpatches.Patch(color='peru', label='Burg')\n",
    "    dreef_patch =mpatches.Patch(color='plum', label='Dreef')\n",
    "    plein_patch =mpatches.Patch(color='fuchsia', label='Plein')\n",
    "    steijn_patch=mpatches.Patch(color='rosybrown', label='Steijn')\n",
    "    pad_patch=mpatches.Patch(color='burlywood', label='Pad')\n",
    "    lei_patch=mpatches.Patch(color='black', label='Lei')\n",
    "    anders_patch =mpatches.Patch(color='gainsboro', label='Anders')\n",
    "    #create your street legend\n",
    "    first_legend=plt.legend(fontsize=16, frameon=False, bbox_to_anchor=(0.5, 1.07), loc='upper center',handles=[your_street_patch])\n",
    "    # Add the legend manually to the current Axes.\n",
    "    ax = plt.gca().add_artist(first_legend)\n",
    "    # Create another legend for the rest\n",
    "    plt.legend(fontsize=16, frameon=False,loc='upper center', bbox_to_anchor=(0.5, 1.05), ncol=8, handles=[street_patch,weg_patch,steeg_patch,lane_patch,erf_patch,hof_patch,canal_patch,kade_patch,dreef_patch,plein_patch,burg_patch,burcht_patch,pad_patch,lei_patch,steijn_patch,anders_patch])\n",
    "    \n",
    "    plt.show()"
   ]
  },
  {
   "cell_type": "code",
   "execution_count": 2,
   "metadata": {},
   "outputs": [
    {
     "data": {
      "application/vnd.jupyter.widget-view+json": {
       "model_id": "fa55c9497b26421b82db038bac355381",
       "version_major": 2,
       "version_minor": 0
      },
      "text/plain": [
       "interactive(children=(Text(value='Dam, Amsterdam', description='Address'), IntSlider(value=500, description='D…"
      ]
     },
     "metadata": {},
     "output_type": "display_data"
    },
    {
     "data": {
      "text/plain": [
       "<function __main__.draw_map(Address, Distance)>"
      ]
     },
     "metadata": {},
     "output_type": "display_data"
    }
   ],
   "source": [
    "# HIDDEN\n",
    "im=interact_manual(draw_map,\n",
    "                   Address='Dam, Amsterdam',\n",
    "                   Distance=widgets.IntSlider(min=500, max=5000, step=500),\n",
    "                   Netwerk_input=['all','drive','bike','walk'],\n",
    "                   bg_color=['white','black']\n",
    "                   )\n",
    "# Layout makes it possible to set width and heigth for a widget\n",
    "# Style makes it possible to give the description a wider box\n",
    "layout = widgets.Layout(width='auto') #set width and height\n",
    "style = {'description_width': 'initial'}\n",
    "\n",
    "im.widget.children[0].description = 'Je adres (straatnaam, plaatsnaam)'\n",
    "im.widget.children[0].style=style\n",
    "im.widget.children[0].layout=layout\n",
    "im.widget.children[1].description = 'Afstand (in meters)'\n",
    "im.widget.children[1].style=style\n",
    "im.widget.children[1].layout=layout\n",
    "im.widget.children[2].description = 'Type netwerk (alleen autowegen, of ook wandelpaden)'\n",
    "im.widget.children[2].style=style\n",
    "im.widget.children[2].layout=layout\n",
    "im.widget.children[3].description = 'Kies achtergrondkleur'\n",
    "im.widget.children[3].style=style\n",
    "im.widget.children[3].layout=layout\n",
    "\n",
    "im.widget.children[4].description = 'Maak een kaartje!'\n",
    "display(im)"
   ]
  },
  {
   "cell_type": "code",
   "execution_count": null,
   "metadata": {},
   "outputs": [],
   "source": []
  }
 ],
 "metadata": {
  "kernelspec": {
   "display_name": "Python 3",
   "language": "python",
   "name": "python3"
  },
  "language_info": {
   "codemirror_mode": {
    "name": "ipython",
    "version": 3
   },
   "file_extension": ".py",
   "mimetype": "text/x-python",
   "name": "python",
   "nbconvert_exporter": "python",
   "pygments_lexer": "ipython3",
   "version": "3.7.8"
  }
 },
 "nbformat": 4,
 "nbformat_minor": 2
}
